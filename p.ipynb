{
 "cells": [
  {
   "cell_type": "code",
   "execution_count": null,
   "metadata": {},
   "outputs": [],
   "source": [
    "from dotenv import load_dotenv\n",
    "\n",
    "from langchain.globals import set_llm_cache\n",
    "from langchain.cache import InMemoryCache\n",
    "\n",
    "import pandas as pd\n",
    "\n",
    "from selenium import webdriver\n",
    "from selenium.webdriver.common.by import By\n",
    "from webdriver_manager.chrome import ChromeDriverManager\n",
    "import time"
   ]
  },
  {
   "cell_type": "code",
   "execution_count": 6,
   "metadata": {},
   "outputs": [],
   "source": [
    "load_dotenv()\n",
    "set_llm_cache(InMemoryCache())"
   ]
  },
  {
   "cell_type": "code",
   "execution_count": null,
   "metadata": {},
   "outputs": [],
   "source": [
    "\n",
    "\n",
    "# Selenium WebDriver 초기화\n",
    "driver = webdriver.Chrome(service=Service(ChromeDriverManager().install()))    # 4버전 이상\n",
    "driver.get(\"https://prod.danawa.com/list/?cate=11229515&15main_11_02=\")\n",
    "laptops = []\n",
    "# 페이지 순회 크롤링\n",
    "for page in range(1, 11):  # 예시로 1~10페이지까지 순회\n",
    "    try:\n",
    "        # JavaScript 함수 호출하여 페이지 이동\n",
    "        driver.execute_script(f\"movePage({page});\")\n",
    "        \n",
    "        # 페이지 로딩 시간 대기\n",
    "        time.sleep(2)\n",
    "        \n",
    "        # 필요한 데이터 추출\n",
    "        products = driver.find_elements(By.CSS_SELECTOR, \"div.prod_main_info\")\n",
    "        for product in products:\n",
    "            name = product.find_element(By.CSS_SELECTOR, \"div.prod_info p.prod_name a\").text.strip()\n",
    "            content = product.find_element(By.CSS_SELECTOR, \"div.prod_info div.spec_list\").text.strip()\n",
    "            try:\n",
    "                price = product.find_element(By.CSS_SELECTOR, \"div.prod_pricelist span.text__number\").text.strip()\n",
    "            except:\n",
    "                try:\n",
    "                    price = product.find_element(By.CSS_SELECTOR, \"div.prod_pricelist ul li p.price_sect a strong\").text.strip()\n",
    "                except:\n",
    "                    price = \"No\"  # 가격 정보가 없을 때 'No'로 표시\n",
    "            \n",
    "            laptops.append({'name': name, 'content': ' .'.join([name, content]), 'price': price})\n",
    "    except Exception as e:\n",
    "        print(f\"Error on page {page}: {e}\")\n",
    "        break\n",
    "\n",
    "# 크롤링 완료 후 드라이버 종료\n",
    "driver.quit()"
   ]
  },
  {
   "cell_type": "code",
   "execution_count": null,
   "metadata": {},
   "outputs": [],
   "source": [
    "df = pd.DataFrame(laptops)\n",
    "\n",
    "# 데이터프레임을 CSV 파일로 저장\n",
    "df.to_csv(\"laptops_data.csv\", index=False)"
   ]
  }
 ],
 "metadata": {
  "kernelspec": {
   "display_name": "nlp",
   "language": "python",
   "name": "python3"
  },
  "language_info": {
   "codemirror_mode": {
    "name": "ipython",
    "version": 3
   },
   "file_extension": ".py",
   "mimetype": "text/x-python",
   "name": "python",
   "nbconvert_exporter": "python",
   "pygments_lexer": "ipython3",
   "version": "3.10.14"
  }
 },
 "nbformat": 4,
 "nbformat_minor": 2
}
